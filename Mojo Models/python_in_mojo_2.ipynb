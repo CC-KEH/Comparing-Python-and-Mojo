{
 "cells": [
  {
   "cell_type": "code",
   "execution_count": 8,
   "metadata": {},
   "outputs": [
    {
     "name": "stderr",
     "output_type": "stream",
     "text": [
      "error: \u001b[0;1;31m\u001b[1mExpression [8]:48:5: \u001b[0m\u001b[1muse of unknown declaration 'svr'\n",
      "\u001b[0m    svr.fit(X_train,y_train)\n",
      "\u001b[0;1;32m    ^~~\n",
      "\u001b[0m\u001b[0m\n",
      "error: \u001b[0;1;31m\u001b[1mExpression [8]:50:14: \u001b[0m\u001b[1muse of unknown declaration 'svr'\n",
      "\u001b[0m    y_pred = svr.predict(X_test)\n",
      "\u001b[0;1;32m             ^~~\n",
      "\u001b[0m\u001b[0m\n",
      "error: \u001b[0;1;31m\u001b[1mExpression [8]:53:29: \u001b[0m\u001b[1muse of unknown declaration 'et'\n",
      "\u001b[0m    print('Execution time:',et-st)\n",
      "\u001b[0;1;32m                            ^~\n",
      "\u001b[0m\u001b[0m\n",
      "error: \u001b[0;1;31m\u001b[1mExpression [8]:53:32: \u001b[0m\u001b[1muse of unknown declaration 'st'\n",
      "\u001b[0m    print('Execution time:',et-st)\n",
      "\u001b[0;1;32m                               ^~\n",
      "\u001b[0m\u001b[0m\n",
      "expression failed to parse (no further compiler diagnostics)"
     ]
    }
   ],
   "source": [
    "import numpy as np\n",
    "import seaborn as sns\n",
    "from sklearn.datasets import make_classification\n",
    "from sklearn.datasets import load_iris\n",
    "import pandas as pd\n",
    "from sklearn.model_selection import train_test_split\n",
    "from sklearn.neighbors import KNeighborsClassifier\n",
    "from sklearn.metrics import accuracy_score, confusion_matrix,classification_report,mean_absolute_error\n",
    "from sklearn import tree\n",
    "from sklearn.naive_bayes import GaussianNB\n",
    "from sklearn.tree import DecisionTreeClassifier\n",
    "from sklearn.linear_model import LogisticRegression\n",
    "from sklearn.linear_model import LinearRegression\n",
    "from sklearn.model_selection import KFold\n",
    "from sklearn.model_selection import GridSearchCV\n",
    "from sklearn.model_selection import cross_val_score\n",
    "import matplotlib.pyplot as plt\n",
    "import warnings \n",
    "import time\n",
    "warnings.filterwarnings('ignore')\n",
    "from sklearn.datasets import make_regression\n",
    "from sklearn.svm import SVR\n",
    "from sklearn.metrics import r2_score\n",
    "\n",
    "\n",
    "st = time.time()\n",
    "X,y = make_regression(n_samples=1000,n_features=2,n_targets=1,noise=3.0)\n",
    "\n",
    "# Splitting for training and testing\n",
    "X_train,X_test,y_train,y_test = train_test_split(X,y,test_size=0.30,random_state=42)\n",
    "\n",
    "svr = SVR(kernel='linear')\n",
    "svr.fit(X_train,y_train)\n",
    "\n",
    "y_pred = svr.predict(X_test)\n",
    "et = time.time()\n",
    "print(r2_score(y_test,y_pred))\n",
    "print('Execution time:',et-st)"
   ]
  },
  {
   "cell_type": "code",
   "execution_count": null,
   "metadata": {},
   "outputs": [],
   "source": []
  }
 ],
 "metadata": {
  "kernelspec": {
   "display_name": "Mojo",
   "language": "mojo",
   "name": "mojo-jupyter-kernel"
  },
  "language_info": {
   "codemirror_mode": {
    "name": "mojo"
   },
   "file_extension": ".mojo",
   "mimetype": "text/x-mojo",
   "name": "mojo"
  },
  "orig_nbformat": 4
 },
 "nbformat": 4,
 "nbformat_minor": 2
}
