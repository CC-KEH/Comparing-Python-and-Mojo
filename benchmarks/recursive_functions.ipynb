{
 "cells": [
  {
   "cell_type": "markdown",
   "metadata": {},
   "source": [
    "### Python Implementation"
   ]
  },
  {
   "cell_type": "code",
   "execution_count": 33,
   "metadata": {},
   "outputs": [
    {
     "name": "stdout",
     "output_type": "stream",
     "text": [
      "102334155\n",
      "Execution Time in Seconds: 21.717877626419067\n"
     ]
    }
   ],
   "source": [
    "%%python\n",
    "from timeit import timeit\n",
    "import time\n",
    "def fib(n):\n",
    "    if n <= 1:\n",
    "       return n \n",
    "    else:\n",
    "       return fib(n-1) + fib(n-2)\n",
    "\n",
    "st = time.time()\n",
    "print(fib(40))\n",
    "et = time.time()\n",
    "python_secs = et-st\n",
    "print(\"Execution Time in Seconds:\",python_secs)"
   ]
  },
  {
   "cell_type": "markdown",
   "metadata": {},
   "source": [
    "### Mojo Implementation"
   ]
  },
  {
   "cell_type": "code",
   "execution_count": 70,
   "metadata": {},
   "outputs": [
    {
     "name": "stdout",
     "output_type": "stream",
     "text": [
      "Execution Time for Mojo in Seconds: 0.50689435699999996\n",
      "Execution Time for Python in Seconds 21.717877626419067\n",
      "speedup: 42.844978103433633\n"
     ]
    }
   ],
   "source": [
    "from Benchmark import Benchmark\n",
    "fn fib(n: Int) -> Int:\n",
    "    if n <= 1:\n",
    "       return n \n",
    "    else:\n",
    "       return fib(n-1) + fib(n-2)\n",
    "\n",
    "fn bench():\n",
    "    fn closure():\n",
    "        for i in range(40):\n",
    "            _ = fib(i)\n",
    "\n",
    "    let nanoseconds = Benchmark().run[closure]()\n",
    "    let mojo_secs = Float64(nanoseconds) / 1e9\n",
    "    print(\"Execution Time for Mojo in Seconds:\", mojo_secs)\n",
    "    print(\"Execution Time for Python in Seconds\",21.717877626419067)\n",
    "    print(\"speedup:\", 21.717877626419067 / mojo_secs)\n",
    "\n",
    "bench()"
   ]
  }
 ],
 "metadata": {
  "kernelspec": {
   "display_name": "Mojo",
   "language": "mojo",
   "name": "mojo-jupyter-kernel"
  },
  "language_info": {
   "name": "mojo"
  },
  "orig_nbformat": 4
 },
 "nbformat": 4,
 "nbformat_minor": 2
}
